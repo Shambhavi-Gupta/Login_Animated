{
  "nbformat": 4,
  "nbformat_minor": 0,
  "metadata": {
    "colab": {
      "name": "LoginSystem_Animated.ipynb",
      "provenance": [],
      "authorship_tag": "ABX9TyNwW+oT3FlbUiljoCL2RYsA",
      "include_colab_link": true
    },
    "kernelspec": {
      "name": "python3",
      "display_name": "Python 3"
    }
  },
  "cells": [
    {
      "cell_type": "markdown",
      "metadata": {
        "id": "view-in-github",
        "colab_type": "text"
      },
      "source": [
        "<a href=\"https://colab.research.google.com/github/Shambhavi-Gupta/Login_Animated/blob/main/LoginSystem_Animated.ipynb\" target=\"_parent\"><img src=\"https://colab.research.google.com/assets/colab-badge.svg\" alt=\"Open In Colab\"/></a>"
      ]
    },
    {
      "cell_type": "code",
      "metadata": {
        "id": "oVSwF1TBbCDN"
      },
      "source": [
        "from tkinter import *\r\n",
        "from PIL import ImageTk\r\n",
        "from tkinter import messagebox\r\n",
        "class Login_System:\r\n",
        "\tdef __init__(self,root):\r\n",
        "\t\tself.root = root\r\n",
        "\t\tself.root.title(\"LOGIN SYSTEM | SHAMBHAVI GUPTA\")\r\n",
        "\t\tself.root.geometry(\"1350x700+0+0\")\r\n",
        "\r\n",
        "\t\tself.phone_image=PhotoImage(file=\"images/phoneFinal1.png\")\r\n",
        "\t\tself.lbl_Phone_image=Label(self.root,image=self.phone_image).place(x=200,y=90)\r\n",
        "\r\n",
        "\t\tlogin_frame=Frame(self.root,bd=2,relief=RIDGE)\r\n",
        "\t\tlogin_frame.place(x=650,y=90,width=350,height=460)\r\n",
        "\r\n",
        "\t\ttitle=Label(login_frame,text=\"LOGIN SYSTEM\",font=(\"Elephant\",25,\"bold\"),bg=\"white\").place(x=0,y=30,relwidth=1)\r\n",
        "\r\n",
        "\t\tlbl_user=Label(login_frame,text=\"Username\",font=(\"Andalus\",15),bg=\"white\",fg=\"#767171\").place(x=50,y=100)\r\n",
        "\t\ttxt_user=Entry(login_frame,font=(\"Andalus\",15),bg=\"#ECECEC\").place(x=50,y=140)\r\n",
        "\r\n",
        "\t\tlbl_pass=Label(login_frame,text=\"Password\",font=(\"Andalus\",15),bg=\"white\",fg=\"#767171\").place(x=50,y=200)\r\n",
        "\t\ttxt_pass=Entry(login_frame,font=(\"Andalus\",15),bg=\"#ECECEC\").place(x=50,y=240,width=250)\r\n",
        "\r\n",
        "\t\tbtn_login=Button(login_frame,text=\"Log In\",font=(\"Arial Rounded MT Bold\",15),bg=\"#00B0F0\",activebackground=\"#00B0F0\",fg=\"white\",activeforeground=\"white\").place(x=50,y=300,width=250,height=35)\r\n",
        "\r\n",
        "\t\thr=Label(login_frame,bg=\"lightgray\").place(x=50,y=370,width=250,height=2)\r\n",
        "\t\tor_ = Label(login_frame,text=\"OR\",bg=\"white\",fg=\"black\",font=(\"times new roman\",15,\"bold\")).place(x=150,y=360)\r\n",
        "\r\n",
        "\t\tbtn_forget=Button(login_frame,text=\"Forget Password?\",font=(\"times new roman\",13),bg=\"white\",fg=\"#00759E\",bd=0,activebackground=\"white\",activeforeground=\"#00759E\").place(x=100,y=390)\r\n",
        "\r\n",
        "\t\tregister_frame = Frame(self.root,bd=2,relief=RIDGE,bg=\"white\")\r\n",
        "\t\tregister_frame.place(x=650,y=570,width=350,height=60)\r\n",
        "\r\n",
        "\t\tlbl_reg=Label(register_frame,text=\"Don't have an account?\",font=(\"times new roman\",13),bg=\"white\").place(x=40,y=20)\r\n",
        "\t\tbtn_signup=Button(register_frame,text=\"Sign Up!!\",font=(\"times new roman\",13,\"bold\"),bg=\"white\",fg=\"#00759E\",bd=0,activebackground=\"white\",activeforeground=\"#00759E\").place(x=200,y=17)\r\n",
        "\r\n",
        "\r\n",
        "\t\tself.im1=ImageTk.PhotoImage(file=\"images/image2.png\")\r\n",
        "\t\tself.im2=ImageTk.PhotoImage(file=\"images/image3.png\")\r\n",
        "\t\tself.im3=ImageTk.PhotoImage(file=\"images/image4.png\")\r\n",
        "\r\n",
        "\t\tself.lbl_change_image=Label(self.root)\r\n",
        "\t\tself.lbl_change_image.place(x=240,y=50,width=370,height=662)\r\n",
        "\r\n",
        "\t\tself.animate()\r\n",
        "\r\n",
        "\t\r\n",
        "\tdef animate(self):\r\n",
        "\t\tself.im=self.im1\r\n",
        "\t\tself.im1=self.im2\r\n",
        "\t\tself.im2=self.im3\r\n",
        "\t\tself.im3=self.im \r\n",
        "\t\tself.lbl_change_image.config(image=self.im)\r\n",
        "\t\tself.lbl_change_image.after(2000,self.animate)       \r\n",
        "\r\n",
        "\r\n",
        "\r\n",
        "root = Tk()\r\n",
        "obj = Login_System(root)\r\n",
        "root.mainloop()\r\n"
      ],
      "execution_count": null,
      "outputs": []
    }
  ]
}